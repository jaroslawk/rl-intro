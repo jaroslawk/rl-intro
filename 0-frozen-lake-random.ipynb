{
 "cells": [
  {
   "cell_type": "code",
   "execution_count": 9,
   "metadata": {},
   "outputs": [],
   "source": [
    "import itertools\n",
    "import random\n",
    "\n",
    "import gym\n",
    "import numpy as np\n",
    "\n",
    "import matplotlib.pyplot as plt\n",
    "\n",
    "state_size = 16\n",
    "action_size = 4\n"
   ]
  },
  {
   "cell_type": "code",
   "execution_count": 10,
   "metadata": {},
   "outputs": [],
   "source": [
    "def setup_agent():\n",
    "    def policy_fn(state):\n",
    "        return random.randrange(action_size)\n",
    "\n",
    "    def update_fn(state, action, reward, next_state, done):\n",
    "        # learning goes here\n",
    "        pass\n",
    "\n",
    "    return policy_fn, update_fn\n"
   ]
  },
  {
   "cell_type": "code",
   "execution_count": 11,
   "metadata": {},
   "outputs": [],
   "source": [
    "def learning(env, policy_fn, update_agent_fn, num_episodes, render=False):\n",
    "    rewards = []\n",
    "    for _ in range(num_episodes):\n",
    "\n",
    "        state = env.reset()\n",
    "        reward_sum = 0\n",
    "        for _ in itertools.count():\n",
    "\n",
    "            if render:\n",
    "                env.render()\n",
    "\n",
    "            action = policy_fn(state)\n",
    "\n",
    "            next_state, reward, done, _ = env.step(action)\n",
    "            update_agent_fn(state, action, reward, next_state, done)\n",
    "\n",
    "            state = next_state\n",
    "            reward_sum += reward\n",
    "            if done:\n",
    "                if reward_sum != 0:\n",
    "                    print('Reward sum: ', reward_sum)\n",
    "                rewards.append(reward_sum)\n",
    "                break\n",
    "\n",
    "    return rewards"
   ]
  },
  {
   "cell_type": "code",
   "execution_count": 12,
   "metadata": {},
   "outputs": [
    {
     "name": "stdout",
     "output_type": "stream",
     "text": [
      "Reward sum:  1.0\n",
      "Reward sum:  1.0\n",
      "Reward sum:  1.0\n",
      "Reward sum:  1.0\n",
      "Reward sum:  1.0\n",
      "Reward sum:  1.0\n",
      "Reward sum:  1.0\n",
      "Reward sum:  1.0\n",
      "Reward sum:  1.0\n",
      "Reward sum:  1.0\n",
      "Reward sum:  1.0\n",
      "Reward sum:  1.0\n",
      "Reward sum:  1.0\n",
      "Reward sum:  1.0\n",
      "Reward sum:  1.0\n",
      "Reward sum:  1.0\n",
      "Reward sum:  1.0\n",
      "Reward sum:  1.0\n",
      "Reward sum:  1.0\n",
      "Reward sum:  1.0\n",
      "Reward sum:  1.0\n",
      "Reward sum:  1.0\n",
      "Reward sum:  1.0\n",
      "Reward sum:  1.0\n",
      "Reward sum:  1.0\n",
      "Reward sum:  1.0\n",
      "Reward sum:  1.0\n",
      "Reward sum:  1.0\n",
      "Reward sum:  1.0\n",
      "Reward sum:  1.0\n",
      "Reward sum:  1.0\n",
      "Reward sum:  1.0\n",
      "Reward sum:  1.0\n",
      "Reward sum:  1.0\n",
      "Reward sum:  1.0\n",
      "Reward sum:  1.0\n",
      "Reward sum:  1.0\n",
      "Reward sum:  1.0\n",
      "Reward sum:  1.0\n",
      "Reward sum:  1.0\n",
      "Reward sum:  1.0\n",
      "Reward sum:  1.0\n",
      "Reward sum:  1.0\n",
      "Reward sum:  1.0\n",
      "Reward sum:  1.0\n",
      "Reward sum:  1.0\n",
      "Reward sum:  1.0\n",
      "Reward sum:  1.0\n",
      "Reward sum:  1.0\n",
      "Reward sum:  1.0\n",
      "Reward sum:  1.0\n",
      "Reward sum:  1.0\n",
      "Reward sum:  1.0\n",
      "Reward sum:  1.0\n",
      "Reward sum:  1.0\n",
      "Reward sum:  1.0\n",
      "Reward sum:  1.0\n",
      "Reward sum:  1.0\n",
      "Reward sum:  1.0\n",
      "Reward sum:  1.0\n",
      "Reward sum:  1.0\n",
      "Reward sum:  1.0\n",
      "Reward sum:  1.0\n",
      "Reward sum:  1.0\n",
      "Reward sum:  1.0\n",
      "Reward sum:  1.0\n",
      "Reward sum:  1.0\n",
      "Reward sum:  1.0\n",
      "Reward sum:  1.0\n",
      "Reward sum:  1.0\n",
      "Reward sum:  1.0\n",
      "Reward sum:  1.0\n",
      "Reward sum:  1.0\n",
      "Reward sum:  1.0\n",
      "Reward sum:  1.0\n",
      "Reward sum:  1.0\n",
      "Reward sum:  1.0\n",
      "Reward sum:  1.0\n",
      "Reward sum:  1.0\n",
      "Reward sum:  1.0\n",
      "Reward sum:  1.0\n",
      "Reward sum:  1.0\n",
      "Reward sum:  1.0\n",
      "Reward sum:  1.0\n",
      "Reward sum:  1.0\n",
      "Reward sum:  1.0\n",
      "Reward sum:  1.0\n",
      "Reward sum:  1.0\n",
      "Reward sum:  1.0\n"
     ]
    }
   ],
   "source": [
    "environment = gym.envs.make('FrozenLake-v0')\n",
    "\n",
    "policy, update_agent = setup_agent()\n",
    "rewards = learning(environment, policy, update_agent, 5000)\n"
   ]
  },
  {
   "cell_type": "code",
   "execution_count": 13,
   "metadata": {},
   "outputs": [
    {
     "data": {
      "image/png": "[encoded data removed]",
      "text/plain": [
       "<Figure size 432x288 with 1 Axes>"
      ]
     },
     "metadata": {
      "needs_background": "light"
     },
     "output_type": "display_data"
    }
   ],
   "source": [
    "plt.plot(np.array(rewards))\n",
    "plt.ylabel('reward')\n",
    "plt.xlabel('episode played')\n",
    "plt.show()"
   ]
  },
  {
   "cell_type": "code",
   "execution_count": null,
   "metadata": {},
   "outputs": [],
   "source": []
  },
  {
   "cell_type": "code",
   "execution_count": null,
   "metadata": {},
   "outputs": [],
   "source": []
  },
  {
   "cell_type": "code",
   "execution_count": null,
   "metadata": {},
   "outputs": [],
   "source": []
  },
  {
   "cell_type": "code",
   "execution_count": null,
   "metadata": {},
   "outputs": [],
   "source": []
  },
  {
   "cell_type": "code",
   "execution_count": null,
   "metadata": {},
   "outputs": [],
   "source": []
  },
  {
   "cell_type": "code",
   "execution_count": null,
   "metadata": {},
   "outputs": [],
   "source": []
  },
  {
   "cell_type": "code",
   "execution_count": null,
   "metadata": {},
   "outputs": [],
   "source": []
  },
  {
   "cell_type": "code",
   "execution_count": null,
   "metadata": {},
   "outputs": [],
   "source": []
  },
  {
   "cell_type": "code",
   "execution_count": null,
   "metadata": {},
   "outputs": [],
   "source": []
  },
  {
   "cell_type": "code",
   "execution_count": null,
   "metadata": {},
   "outputs": [],
   "source": []
  },
  {
   "cell_type": "code",
   "execution_count": null,
   "metadata": {},
   "outputs": [],
   "source": []
  },
  {
   "cell_type": "code",
   "execution_count": null,
   "metadata": {},
   "outputs": [],
   "source": []
  },
  {
   "cell_type": "code",
   "execution_count": null,
   "metadata": {},
   "outputs": [],
   "source": []
  },
  {
   "cell_type": "code",
   "execution_count": null,
   "metadata": {},
   "outputs": [],
   "source": []
  }
 ],
 "metadata": {
  "kernelspec": {
   "display_name": "Python 3",
   "language": "python",
   "name": "python3"
  },
  "language_info": {
   "codemirror_mode": {
    "name": "ipython",
    "version": 3
   },
   "file_extension": ".py",
   "mimetype": "text/x-python",
   "name": "python",
   "nbconvert_exporter": "python",
   "pygments_lexer": "ipython3",
   "version": "3.6.8"
  }
 },
 "nbformat": 4,
 "nbformat_minor": 1
}
